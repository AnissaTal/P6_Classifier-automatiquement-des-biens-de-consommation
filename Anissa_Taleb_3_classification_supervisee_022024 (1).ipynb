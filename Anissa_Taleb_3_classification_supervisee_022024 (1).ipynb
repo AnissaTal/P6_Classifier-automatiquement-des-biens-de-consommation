{
 "cells": [
  {
   "cell_type": "markdown",
   "metadata": {},
   "source": [
    "# Préparation du dataset"
   ]
  },
  {
   "cell_type": "code",
   "execution_count": 1,
   "metadata": {
    "scrolled": true
   },
   "outputs": [
    {
     "name": "stdout",
     "output_type": "stream",
     "text": [
      "Num GPUs Available:  0\n"
     ]
    }
   ],
   "source": [
    "import pandas as pd\n",
    "import numpy as np\n",
    "import matplotlib.pyplot as plt\n",
    "import seaborn as sns\n",
    "%matplotlib inline\n",
    "import os\n",
    "from os import listdir\n",
    "from sklearn.model_selection import train_test_split\n",
    "from sklearn.metrics import accuracy_score, auc, roc_auc_score, roc_curve\n",
    "from glob import glob\n",
    "\n",
    "import tensorflow as tf\n",
    "from tensorflow.keras.models import Model, Sequential\n",
    "from tensorflow.keras.layers import GlobalAveragePooling2D, GlobalAveragePooling1D, Flatten, Dense, Dropout \n",
    "from tensorflow.keras.layers import Rescaling, RandomFlip, RandomRotation, RandomZoom\n",
    "from tensorflow.keras.callbacks import EarlyStopping, ModelCheckpoint\n",
    "from tensorflow.keras.applications.vgg16 import VGG16\n",
    "from tensorflow.keras.applications.vgg16 import preprocess_input\n",
    "from tensorflow.keras.preprocessing.image import load_img, img_to_array\n",
    "from tensorflow.keras.utils import to_categorical\n",
    "\n",
    "# os.environ[\"TF_KERAS\"]='1'\n",
    "print(\"Num GPUs Available: \", len(tf.config.list_physical_devices('GPU')))"
   ]
  },
  {
   "cell_type": "code",
   "execution_count": 2,
   "metadata": {},
   "outputs": [],
   "source": [
    "df=pd.read_csv('data_propre.csv')"
   ]
  },
  {
   "cell_type": "code",
   "execution_count": 3,
   "metadata": {},
   "outputs": [
    {
     "data": {
      "text/plain": [
       "Index(['Unnamed: 0', 'uniq_id', 'crawl_timestamp', 'product_url',\n",
       "       'product_name', 'product_category_tree', 'pid', 'retail_price',\n",
       "       'discounted_price', 'image', 'is_FK_Advantage_product', 'description',\n",
       "       'product_rating', 'overall_rating', 'brand', 'product_specifications',\n",
       "       'sentence_bow', 'sentence_bow_lem', 'sentence_dl'],\n",
       "      dtype='object')"
      ]
     },
     "execution_count": 3,
     "metadata": {},
     "output_type": "execute_result"
    }
   ],
   "source": [
    "df.columns"
   ]
  },
  {
   "cell_type": "code",
   "execution_count": 4,
   "metadata": {},
   "outputs": [],
   "source": [
    "df_images= df[['product_category_tree', 'image']]"
   ]
  },
  {
   "cell_type": "code",
   "execution_count": 5,
   "metadata": {},
   "outputs": [],
   "source": [
    "path_images = \"C:/Users//User/Desktop/P6/Flipkart/Images\"\n"
   ]
  },
  {
   "cell_type": "code",
   "execution_count": 6,
   "metadata": {},
   "outputs": [],
   "source": [
    "list_photos = [file for file in listdir(path_images)]"
   ]
  },
  {
   "cell_type": "code",
   "execution_count": null,
   "metadata": {},
   "outputs": [],
   "source": []
  },
  {
   "cell_type": "code",
   "execution_count": 7,
   "metadata": {},
   "outputs": [
    {
     "name": "stderr",
     "output_type": "stream",
     "text": [
      "C:\\Users\\User\\AppData\\Local\\Temp\\ipykernel_15340\\2211409475.py:1: SettingWithCopyWarning: \n",
      "A value is trying to be set on a copy of a slice from a DataFrame.\n",
      "Try using .loc[row_indexer,col_indexer] = value instead\n",
      "\n",
      "See the caveats in the documentation: https://pandas.pydata.org/pandas-docs/stable/user_guide/indexing.html#returning-a-view-versus-a-copy\n",
      "  df_images[\"image_path\"] =  path_images + \"/\" +df_images[\"image\"]\n"
     ]
    }
   ],
   "source": [
    "df_images[\"image_path\"] =  path_images + \"/\" +df_images[\"image\"]"
   ]
  },
  {
   "cell_type": "code",
   "execution_count": 8,
   "metadata": {},
   "outputs": [
    {
     "name": "stderr",
     "output_type": "stream",
     "text": [
      "C:\\Users\\User\\AppData\\Local\\Temp\\ipykernel_15340\\2387425039.py:1: SettingWithCopyWarning: \n",
      "A value is trying to be set on a copy of a slice from a DataFrame\n",
      "\n",
      "See the caveats in the documentation: https://pandas.pydata.org/pandas-docs/stable/user_guide/indexing.html#returning-a-view-versus-a-copy\n",
      "  df_images.rename(columns={'product_category_tree':'label_name'},inplace=True)\n"
     ]
    }
   ],
   "source": [
    "df_images.rename(columns={'product_category_tree':'label_name'},inplace=True)\n"
   ]
  },
  {
   "cell_type": "code",
   "execution_count": 9,
   "metadata": {},
   "outputs": [
    {
     "data": {
      "text/html": [
       "<div>\n",
       "<style scoped>\n",
       "    .dataframe tbody tr th:only-of-type {\n",
       "        vertical-align: middle;\n",
       "    }\n",
       "\n",
       "    .dataframe tbody tr th {\n",
       "        vertical-align: top;\n",
       "    }\n",
       "\n",
       "    .dataframe thead th {\n",
       "        text-align: right;\n",
       "    }\n",
       "</style>\n",
       "<table border=\"1\" class=\"dataframe\">\n",
       "  <thead>\n",
       "    <tr style=\"text-align: right;\">\n",
       "      <th></th>\n",
       "      <th>label_name</th>\n",
       "      <th>image</th>\n",
       "      <th>image_path</th>\n",
       "    </tr>\n",
       "  </thead>\n",
       "  <tbody>\n",
       "    <tr>\n",
       "      <th>0</th>\n",
       "      <td>Home Furnishing</td>\n",
       "      <td>55b85ea15a1536d46b7190ad6fff8ce7.jpg</td>\n",
       "      <td>C:/Users//User/Desktop/P6/Flipkart/Images/55b8...</td>\n",
       "    </tr>\n",
       "    <tr>\n",
       "      <th>1</th>\n",
       "      <td>Baby Care</td>\n",
       "      <td>7b72c92c2f6c40268628ec5f14c6d590.jpg</td>\n",
       "      <td>C:/Users//User/Desktop/P6/Flipkart/Images/7b72...</td>\n",
       "    </tr>\n",
       "    <tr>\n",
       "      <th>2</th>\n",
       "      <td>Baby Care</td>\n",
       "      <td>64d5d4a258243731dc7bbb1eef49ad74.jpg</td>\n",
       "      <td>C:/Users//User/Desktop/P6/Flipkart/Images/64d5...</td>\n",
       "    </tr>\n",
       "  </tbody>\n",
       "</table>\n",
       "</div>"
      ],
      "text/plain": [
       "         label_name                                 image  \\\n",
       "0  Home Furnishing   55b85ea15a1536d46b7190ad6fff8ce7.jpg   \n",
       "1        Baby Care   7b72c92c2f6c40268628ec5f14c6d590.jpg   \n",
       "2        Baby Care   64d5d4a258243731dc7bbb1eef49ad74.jpg   \n",
       "\n",
       "                                          image_path  \n",
       "0  C:/Users//User/Desktop/P6/Flipkart/Images/55b8...  \n",
       "1  C:/Users//User/Desktop/P6/Flipkart/Images/7b72...  \n",
       "2  C:/Users//User/Desktop/P6/Flipkart/Images/64d5...  "
      ]
     },
     "execution_count": 9,
     "metadata": {},
     "output_type": "execute_result"
    }
   ],
   "source": [
    "df_images.head(3)"
   ]
  },
  {
   "cell_type": "code",
   "execution_count": 10,
   "metadata": {},
   "outputs": [],
   "source": [
    "X = df_images.drop('label_name',axis=1)\n",
    "y=df_images['label_name']"
   ]
  },
  {
   "cell_type": "code",
   "execution_count": 11,
   "metadata": {},
   "outputs": [],
   "source": [
    "X_train, X_test, y_train, y_test = train_test_split( X, y, test_size=0.33, stratify=y, random_state=42)"
   ]
  },
  {
   "cell_type": "code",
   "execution_count": 12,
   "metadata": {},
   "outputs": [],
   "source": [
    "from sklearn import preprocessing\n",
    "\n",
    "le = preprocessing.LabelEncoder()\n",
    "le.fit(y_train)\n",
    "y_label = le.transform(y_train)\n",
    "y_label_test = le.transform(y_test)\n"
   ]
  },
  {
   "cell_type": "markdown",
   "metadata": {},
   "source": [
    "# Etape 2 : classification supervisée\n",
    "2 approches sont présentées :\n",
    "* Une approche simple par préparation initiale de l'ensemble des images avant classification supervisée\n",
    "* Une approche par data generator, permettant facilement la data augmentation. Les images sont directement récupérées à la volée dans le repertoire des images\n"
   ]
  },
  {
   "cell_type": "markdown",
   "metadata": {},
   "source": [
    "## Création du modèle de classification"
   ]
  },
  {
   "cell_type": "code",
   "execution_count": 13,
   "metadata": {
    "scrolled": true
   },
   "outputs": [],
   "source": [
    "def create_model_fct() :\n",
    "    # Récupération modèle pré-entraîné\n",
    "    model0 = VGG16(include_top=False, weights=\"imagenet\", input_shape=(224, 224, 3))\n",
    "\n",
    "    # Layer non entraînables = on garde les poids du modèle pré-entraîné\n",
    "    for layer in model0.layers:\n",
    "        layer.trainable = False\n",
    "\n",
    "    # Récupérer la sortie de ce réseau\n",
    "    x = model0.output\n",
    "    # Compléter le modèle\n",
    "    x = GlobalAveragePooling2D()(x)\n",
    "    x = Dense(256, activation='relu')(x)\n",
    "    x = Dropout(0.5)(x)\n",
    "    predictions = Dense(7, activation='softmax')(x)\n",
    "\n",
    "    # Définir le nouveau modèle\n",
    "    model = Model(inputs=model0.input, outputs=predictions)\n",
    "    # compilation du modèle \n",
    "    model.compile(loss=\"categorical_crossentropy\", optimizer='rmsprop', metrics=[\"accuracy\"])\n",
    "\n",
    "    print(model.summary())\n",
    "    \n",
    "    return model\n",
    "    "
   ]
  },
  {
   "cell_type": "markdown",
   "metadata": {},
   "source": [
    "## Approche préparation initiale des images"
   ]
  },
  {
   "cell_type": "code",
   "execution_count": 14,
   "metadata": {},
   "outputs": [],
   "source": [
    "liste_index_train= X_train.index\n",
    "liste_index_test=X_test.index"
   ]
  },
  {
   "cell_type": "code",
   "execution_count": 15,
   "metadata": {},
   "outputs": [
    {
     "name": "stderr",
     "output_type": "stream",
     "text": [
      "C:\\Users\\User\\anaconda3\\envs\\nouveauenvironnement\\lib\\site-packages\\PIL\\Image.py:3157: DecompressionBombWarning: Image size (93680328 pixels) exceeds limit of 89478485 pixels, could be decompression bomb DOS attack.\n",
      "  warnings.warn(\n"
     ]
    },
    {
     "name": "stdout",
     "output_type": "stream",
     "text": [
      "(703, 224, 224, 3)\n",
      "(347, 224, 224, 3)\n"
     ]
    }
   ],
   "source": [
    "def image_prep_fct(data,liste) :\n",
    "    prepared_images = []\n",
    "    for image_num in liste :\n",
    "        img = (load_img(\n",
    "            data['image_path'][image_num],\n",
    "            target_size=(224, 224)))\n",
    "        img = img_to_array(img)\n",
    "        img = img.reshape((img.shape[0], img.shape[1], img.shape[2]))\n",
    "        img = preprocess_input(img)\n",
    "        prepared_images.append(img)\n",
    "        prepared_images_np = np.array(prepared_images)\n",
    "    return prepared_images_np\n",
    "    \n",
    "images_np = image_prep_fct(X_train,liste_index_train)\n",
    "print(images_np.shape)\n",
    "images_np_test = image_prep_fct(X_test,liste_index_test)\n",
    "print(images_np_test.shape)"
   ]
  },
  {
   "cell_type": "code",
   "execution_count": 16,
   "metadata": {},
   "outputs": [
    {
     "data": {
      "text/plain": [
       "array([[0., 0., 1., ..., 0., 0., 0.],\n",
       "       [0., 0., 0., ..., 1., 0., 0.],\n",
       "       [0., 0., 1., ..., 0., 0., 0.],\n",
       "       ...,\n",
       "       [0., 0., 0., ..., 1., 0., 0.],\n",
       "       [0., 0., 1., ..., 0., 0., 0.],\n",
       "       [0., 0., 0., ..., 0., 0., 1.]], dtype=float32)"
      ]
     },
     "execution_count": 16,
     "metadata": {},
     "output_type": "execute_result"
    }
   ],
   "source": [
    "X = images_np\n",
    "y_train = to_categorical(y_label)\n",
    "\n",
    "X_test = images_np_test\n",
    "y_test = to_categorical(y_label_test)\n",
    "\n",
    "y_train\n"
   ]
  },
  {
   "cell_type": "code",
   "execution_count": 17,
   "metadata": {},
   "outputs": [
    {
     "data": {
      "text/plain": [
       "(1050,)"
      ]
     },
     "execution_count": 17,
     "metadata": {},
     "output_type": "execute_result"
    }
   ],
   "source": [
    "y.shape"
   ]
  },
  {
   "cell_type": "code",
   "execution_count": 18,
   "metadata": {},
   "outputs": [
    {
     "data": {
      "text/plain": [
       "(527, 224, 224, 3)"
      ]
     },
     "execution_count": 18,
     "metadata": {},
     "output_type": "execute_result"
    }
   ],
   "source": [
    "X_train2, X_val, y_train2, y_val = train_test_split(X, y_train, stratify=y_train, test_size=0.25, random_state=42)\n",
    "X_train2.shape"
   ]
  },
  {
   "cell_type": "code",
   "execution_count": 19,
   "metadata": {
    "scrolled": true
   },
   "outputs": [
    {
     "name": "stdout",
     "output_type": "stream",
     "text": [
      "Model: \"model\"\n",
      "_________________________________________________________________\n",
      " Layer (type)                Output Shape              Param #   \n",
      "=================================================================\n",
      " input_1 (InputLayer)        [(None, 224, 224, 3)]     0         \n",
      "                                                                 \n",
      " block1_conv1 (Conv2D)       (None, 224, 224, 64)      1792      \n",
      "                                                                 \n",
      " block1_conv2 (Conv2D)       (None, 224, 224, 64)      36928     \n",
      "                                                                 \n",
      " block1_pool (MaxPooling2D)  (None, 112, 112, 64)      0         \n",
      "                                                                 \n",
      " block2_conv1 (Conv2D)       (None, 112, 112, 128)     73856     \n",
      "                                                                 \n",
      " block2_conv2 (Conv2D)       (None, 112, 112, 128)     147584    \n",
      "                                                                 \n",
      " block2_pool (MaxPooling2D)  (None, 56, 56, 128)       0         \n",
      "                                                                 \n",
      " block3_conv1 (Conv2D)       (None, 56, 56, 256)       295168    \n",
      "                                                                 \n",
      " block3_conv2 (Conv2D)       (None, 56, 56, 256)       590080    \n",
      "                                                                 \n",
      " block3_conv3 (Conv2D)       (None, 56, 56, 256)       590080    \n",
      "                                                                 \n",
      " block3_pool (MaxPooling2D)  (None, 28, 28, 256)       0         \n",
      "                                                                 \n",
      " block4_conv1 (Conv2D)       (None, 28, 28, 512)       1180160   \n",
      "                                                                 \n",
      " block4_conv2 (Conv2D)       (None, 28, 28, 512)       2359808   \n",
      "                                                                 \n",
      " block4_conv3 (Conv2D)       (None, 28, 28, 512)       2359808   \n",
      "                                                                 \n",
      " block4_pool (MaxPooling2D)  (None, 14, 14, 512)       0         \n",
      "                                                                 \n",
      " block5_conv1 (Conv2D)       (None, 14, 14, 512)       2359808   \n",
      "                                                                 \n",
      " block5_conv2 (Conv2D)       (None, 14, 14, 512)       2359808   \n",
      "                                                                 \n",
      " block5_conv3 (Conv2D)       (None, 14, 14, 512)       2359808   \n",
      "                                                                 \n",
      " block5_pool (MaxPooling2D)  (None, 7, 7, 512)         0         \n",
      "                                                                 \n",
      " global_average_pooling2d (G  (None, 512)              0         \n",
      " lobalAveragePooling2D)                                          \n",
      "                                                                 \n",
      " dense (Dense)               (None, 256)               131328    \n",
      "                                                                 \n",
      " dropout (Dropout)           (None, 256)               0         \n",
      "                                                                 \n",
      " dense_1 (Dense)             (None, 7)                 1799      \n",
      "                                                                 \n",
      "=================================================================\n",
      "Total params: 14,847,815\n",
      "Trainable params: 133,127\n",
      "Non-trainable params: 14,714,688\n",
      "_________________________________________________________________\n",
      "None\n"
     ]
    }
   ],
   "source": [
    "# Création du modèle\n",
    "with tf.device('/gpu:0'): \n",
    "    model1 = create_model_fct()\n",
    "\n",
    "# Création du callback\n",
    "model1_save_path1 = \"./model1_best_weights.h5\"\n",
    "checkpoint = ModelCheckpoint(model1_save_path1, monitor='val_loss', verbose=1, save_best_only=True, mode='min')\n",
    "es = EarlyStopping(monitor='val_loss', mode='min', verbose=1, patience=5)\n",
    "callbacks_list = [checkpoint, es]\n"
   ]
  },
  {
   "cell_type": "code",
   "execution_count": 20,
   "metadata": {
    "scrolled": true
   },
   "outputs": [
    {
     "name": "stdout",
     "output_type": "stream",
     "text": [
      "Epoch 1/50\n",
      "9/9 [==============================] - ETA: 0s - loss: 5.4611 - accuracy: 0.4478 \n",
      "Epoch 1: val_loss improved from inf to 1.30888, saving model to .\\model1_best_weights.h5\n",
      "9/9 [==============================] - 147s 17s/step - loss: 5.4611 - accuracy: 0.4478 - val_loss: 1.3089 - val_accuracy: 0.7386\n",
      "Epoch 2/50\n",
      "9/9 [==============================] - ETA: 0s - loss: 2.3613 - accuracy: 0.6414 \n",
      "Epoch 2: val_loss improved from 1.30888 to 1.08175, saving model to .\\model1_best_weights.h5\n",
      "9/9 [==============================] - 155s 18s/step - loss: 2.3613 - accuracy: 0.6414 - val_loss: 1.0817 - val_accuracy: 0.7557\n",
      "Epoch 3/50\n",
      "9/9 [==============================] - ETA: 0s - loss: 1.4554 - accuracy: 0.7249 \n",
      "Epoch 3: val_loss improved from 1.08175 to 1.07698, saving model to .\\model1_best_weights.h5\n",
      "9/9 [==============================] - 166s 19s/step - loss: 1.4554 - accuracy: 0.7249 - val_loss: 1.0770 - val_accuracy: 0.7784\n",
      "Epoch 4/50\n",
      "9/9 [==============================] - ETA: 0s - loss: 1.1610 - accuracy: 0.7609 \n",
      "Epoch 4: val_loss improved from 1.07698 to 0.86193, saving model to .\\model1_best_weights.h5\n",
      "9/9 [==============================] - 171s 20s/step - loss: 1.1610 - accuracy: 0.7609 - val_loss: 0.8619 - val_accuracy: 0.8182\n",
      "Epoch 5/50\n",
      "9/9 [==============================] - ETA: 0s - loss: 0.8117 - accuracy: 0.8102 \n",
      "Epoch 5: val_loss did not improve from 0.86193\n",
      "9/9 [==============================] - 162s 18s/step - loss: 0.8117 - accuracy: 0.8102 - val_loss: 0.9014 - val_accuracy: 0.8011\n",
      "Epoch 6/50\n",
      "9/9 [==============================] - ETA: 0s - loss: 0.6575 - accuracy: 0.8273 \n",
      "Epoch 6: val_loss did not improve from 0.86193\n",
      "9/9 [==============================] - 157s 18s/step - loss: 0.6575 - accuracy: 0.8273 - val_loss: 0.8718 - val_accuracy: 0.8239\n",
      "Epoch 7/50\n",
      "9/9 [==============================] - ETA: 0s - loss: 0.5037 - accuracy: 0.8710 \n",
      "Epoch 7: val_loss did not improve from 0.86193\n",
      "9/9 [==============================] - 159s 18s/step - loss: 0.5037 - accuracy: 0.8710 - val_loss: 0.8892 - val_accuracy: 0.8011\n",
      "Epoch 8/50\n",
      "9/9 [==============================] - ETA: 0s - loss: 0.3384 - accuracy: 0.9032 \n",
      "Epoch 8: val_loss did not improve from 0.86193\n",
      "9/9 [==============================] - 154s 17s/step - loss: 0.3384 - accuracy: 0.9032 - val_loss: 0.9161 - val_accuracy: 0.8239\n",
      "Epoch 9/50\n",
      "9/9 [==============================] - ETA: 0s - loss: 0.2551 - accuracy: 0.9051 \n",
      "Epoch 9: val_loss did not improve from 0.86193\n",
      "9/9 [==============================] - 157s 18s/step - loss: 0.2551 - accuracy: 0.9051 - val_loss: 0.8621 - val_accuracy: 0.8182\n",
      "Epoch 9: early stopping\n"
     ]
    }
   ],
   "source": [
    "# Entraîner sur les données d'entraînement (X_train, y_train)\n",
    "with tf.device('/gpu:0'): \n",
    "    history1 = model1.fit(X_train2, y_train2, epochs=50, batch_size=64, \n",
    "                       callbacks=callbacks_list, validation_data=(X_val, y_val), verbose=1)\n"
   ]
  },
  {
   "cell_type": "code",
   "execution_count": 21,
   "metadata": {
    "scrolled": true
   },
   "outputs": [
    {
     "name": "stdout",
     "output_type": "stream",
     "text": [
      "17/17 [==============================] - 117s 7s/step - loss: 0.0564 - accuracy: 0.9867\n",
      "Training Accuracy: 0.9867\n",
      "\n",
      "6/6 [==============================] - 40s 6s/step - loss: 0.8621 - accuracy: 0.8182\n",
      "Validation Accuracy:  0.8182\n"
     ]
    }
   ],
   "source": [
    "# Score du dernier epoch\n",
    "\n",
    "loss, accuracy = model1.evaluate(X_train2, y_train2, verbose=True)\n",
    "print(\"Training Accuracy: {:.4f}\".format(accuracy))\n",
    "print()\n",
    "loss, accuracy = model1.evaluate(X_val, y_val, verbose=True)\n",
    "print(\"Validation Accuracy:  {:.4f}\".format(accuracy))\n",
    "\n"
   ]
  },
  {
   "cell_type": "code",
   "execution_count": 22,
   "metadata": {},
   "outputs": [
    {
     "name": "stdout",
     "output_type": "stream",
     "text": [
      "Validation Accuracy :  0.8182\n",
      "Test Accuracy       :  0.7723\n"
     ]
    }
   ],
   "source": [
    "# Score de l'epoch optimal\n",
    "\n",
    "model1.load_weights(model1_save_path1)\n",
    "\n",
    "loss, accuracy = model1.evaluate(X_val, y_val, verbose=False)\n",
    "print(\"Validation Accuracy :  {:.4f}\".format(accuracy))\n",
    "\n",
    "loss, accuracy = model1.evaluate(X_test, y_test, verbose=False)\n",
    "print(\"Test Accuracy       :  {:.4f}\".format(accuracy))\n"
   ]
  },
  {
   "cell_type": "code",
   "execution_count": 23,
   "metadata": {},
   "outputs": [
    {
     "data": {
      "text/html": [
       "\n",
       "        <style>\n",
       "            .support_message_main_box {\n",
       "                position: relative;\n",
       "                display: table-cell;\n",
       "                vertical-align: middle;\n",
       "                width: 100%;\n",
       "                height: 8em;\n",
       "                padding: 1em;\n",
       "                padding-left: 11em;\n",
       "                background-color: #f7f7f7;\n",
       "                border: 1px solid #cfcfcf;\n",
       "                border-radius: 2px;\n",
       "            }\n",
       "            .support_message_main_box img {\n",
       "                position: absolute;\n",
       "                height: 9em;\n",
       "                width: 9em;\n",
       "                left: 0.5em;\n",
       "                top: 0.5em;\n",
       "                border-radius: 1em;\n",
       "            }\n",
       "        </style>\n",
       "        <div class=\"support_message_main_box\">\n",
       "            <img src=\"https://avatars.githubusercontent.com/u/7738570?v=4\" />\n",
       "            <p>\n",
       "            <b>Hi!</b><br/>\n",
       "            <span>I am the author of\n",
       "            <a href=\"https://github.com/LucaCappelletti94/plot_keras_history\" target=\"_blank\">\n",
       "                plot_keras_history\n",
       "            </a>, which you use in this Notebook.\n",
       "            </span><br/>\n",
       "            \n",
       "            <span>I love to code, but I also need coffee.</span>\n",
       "            <a href=\"https://github.com/sponsors/LucaCappelletti94\" target=\"_blank\">\n",
       "                Please sponsor me on GitHub ❤️\n",
       "            </a><br/>\n",
       "            <i>Good luck in your coding 🍀!</i>\n",
       "            <br/>\n",
       "            <i>- Luca</i>\n",
       "            </p>\n",
       "        <div>\n",
       "        "
      ],
      "text/plain": [
       "<IPython.core.display.HTML object>"
      ]
     },
     "metadata": {},
     "output_type": "display_data"
    },
    {
     "data": {
      "image/png": "[encoded data removed]",
      "text/plain": [
       "<Figure size 1000x500 with 2 Axes>"
      ]
     },
     "metadata": {},
     "output_type": "display_data"
    }
   ],
   "source": [
    "from plot_keras_history import show_history, plot_history\n",
    "import matplotlib.pyplot as plt\n",
    "\n",
    "show_history(history1)\n",
    "plot_history(history1, path=\"standard.png\")\n",
    "plt.close()"
   ]
  },
  {
   "cell_type": "code",
   "execution_count": 24,
   "metadata": {
    "scrolled": true
   },
   "outputs": [
    {
     "name": "stdout",
     "output_type": "stream",
     "text": [
      "6/6 [==============================] - 41s 7s/step\n",
      "[6 0 6 1 2 3 0 0 5 3 6 2 6 5 1 5 0 2 5 4 3 5 3 3 6 1 0 1 0 3 4 1 6 0 0 4 4\n",
      " 0 2 4 1 4 6 1 4 5 1 2 0 1 3 0 2 5 5 1 1 3 1 6 2 2 2 1 0 0 0 0 1 4 0 4 2 3\n",
      " 5 6 4 0 6 2 6 5 0 5 3 3 1 3 6 5 5 5 5 1 6 4 4 1 2 3 1 4 5 6 6 4 2 6 4 5 6\n",
      " 6 2 2 2 0 0 2 4 0 5 1 3 6 2 3 2 2 3 4 5 6 6 2 1 6 5 1 6 3 5 5 2 2 3 1 4 6\n",
      " 0 1 1 5 2 0 3 3 3 5 0 3 3 4 0 4 4 4 4 4 6 3 1 5 4 3 2 0]\n",
      "\n",
      "[6 4 6 1 2 3 0 0 5 3 6 2 5 5 1 5 0 2 5 4 3 3 3 3 6 1 4 1 0 3 4 1 6 0 0 4 4\n",
      " 0 2 4 1 4 6 1 1 5 1 2 3 0 3 0 2 5 5 1 1 3 1 6 2 2 5 1 0 0 5 0 4 4 0 4 2 3\n",
      " 5 6 4 0 6 2 6 5 5 5 3 6 1 3 6 5 3 5 0 1 6 0 1 1 2 3 2 0 5 6 6 0 2 6 0 5 6\n",
      " 2 2 2 2 0 0 2 4 0 5 4 0 6 2 3 2 2 3 4 0 6 6 2 1 6 5 1 6 3 5 5 5 2 3 2 4 6\n",
      " 0 1 1 5 2 0 3 3 3 5 0 3 3 4 4 0 4 0 4 0 6 3 5 5 4 3 1 0]\n"
     ]
    }
   ],
   "source": [
    "y_val_num = np.argmax(y_val, axis=1)\n",
    "y_val_pred = np.argmax(model1.predict(X_val), axis=1)\n",
    "y_val_num = np.argmax(y_val, axis=1)\n",
    "print(y_val_num)\n",
    "print()\n",
    "print(y_val_pred)"
   ]
  },
  {
   "cell_type": "code",
   "execution_count": 25,
   "metadata": {},
   "outputs": [],
   "source": [
    "from sklearn.metrics import classification_report,confusion_matrix\n"
   ]
  },
  {
   "cell_type": "code",
   "execution_count": 26,
   "metadata": {},
   "outputs": [
    {
     "name": "stdout",
     "output_type": "stream",
     "text": [
      "[[20  0  0  1  3  2  0]\n",
      " [ 1 19  2  0  2  1  0]\n",
      " [ 0  1 22  0  0  2  0]\n",
      " [ 1  0  0 23  0  0  1]\n",
      " [ 7  2  0  0 16  0  0]\n",
      " [ 2  0  0  2  0 21  0]\n",
      " [ 0  0  1  0  0  1 23]]\n"
     ]
    }
   ],
   "source": [
    "\n",
    "conf_mat = confusion_matrix(y_val_num, y_val_pred)\n",
    "print(conf_mat)"
   ]
  },
  {
   "cell_type": "code",
   "execution_count": 27,
   "metadata": {},
   "outputs": [
    {
     "name": "stdout",
     "output_type": "stream",
     "text": [
      "              precision    recall  f1-score   support\n",
      "\n",
      "           0       0.65      0.77      0.70        26\n",
      "           1       0.86      0.76      0.81        25\n",
      "           2       0.88      0.88      0.88        25\n",
      "           3       0.88      0.92      0.90        25\n",
      "           4       0.76      0.64      0.70        25\n",
      "           5       0.78      0.84      0.81        25\n",
      "           6       0.96      0.92      0.94        25\n",
      "\n",
      "    accuracy                           0.82       176\n",
      "   macro avg       0.82      0.82      0.82       176\n",
      "weighted avg       0.82      0.82      0.82       176\n",
      "\n"
     ]
    }
   ],
   "source": [
    "\n",
    "print(classification_report(y_val_num, y_val_pred))"
   ]
  },
  {
   "cell_type": "code",
   "execution_count": 29,
   "metadata": {},
   "outputs": [],
   "source": [
    "list_labels = [\"Baby Care\", \"Beauty and Personal Care\", \"Computers\", \"Home Decor & Festive Needs\",\"Home Furnishing\",\"Kitchen & Dining\",\"Watches\"]\n"
   ]
  },
  {
   "cell_type": "code",
   "execution_count": 30,
   "metadata": {},
   "outputs": [
    {
     "data": {
      "text/plain": [
       "<Axes: >"
      ]
     },
     "execution_count": 30,
     "metadata": {},
     "output_type": "execute_result"
    },
    {
     "data": {
      "image/png": "[encoded data removed]",
      "text/plain": [
       "<Figure size 600x400 with 2 Axes>"
      ]
     },
     "metadata": {},
     "output_type": "display_data"
    }
   ],
   "source": [
    "df_cm = pd.DataFrame(conf_mat, index = [label for label in list_labels],\n",
    "                  columns = [i for i in \"0123456\"])\n",
    "plt.figure(figsize = (6,4))\n",
    "sns.heatmap(df_cm, annot=True, cmap=\"Blues\")"
   ]
  },
  {
   "cell_type": "markdown",
   "metadata": {},
   "source": [
    "## Approche ImageDatagenerator avec data augmentation\n",
    "\n",
    "CF https://www.tensorflow.org/api_docs/python/tf/keras/preprocessing/image/ImageDataGenerator#flow (noté désormais comme \"deprecated\", incite à utiiser l'approche suivante)"
   ]
  },
  {
   "cell_type": "code",
   "execution_count": 31,
   "metadata": {},
   "outputs": [],
   "source": [
    "from tensorflow.keras.preprocessing.image import ImageDataGenerator"
   ]
  },
  {
   "cell_type": "code",
   "execution_count": 32,
   "metadata": {},
   "outputs": [],
   "source": [
    "# Pour mélanger les images, classées initalement par classe\n",
    "df_images = df_images.sample(frac=1, random_state=42).reset_index(drop=True)"
   ]
  },
  {
   "cell_type": "code",
   "execution_count": 33,
   "metadata": {},
   "outputs": [],
   "source": [
    "X = df_images.drop('label_name',axis=1)\n",
    "y=df_images['label_name']"
   ]
  },
  {
   "cell_type": "code",
   "execution_count": 34,
   "metadata": {},
   "outputs": [],
   "source": [
    "X_train, X_test, y_train, y_test = train_test_split( X, y, test_size=0.33, stratify=y, random_state=42)"
   ]
  },
  {
   "cell_type": "code",
   "execution_count": 35,
   "metadata": {},
   "outputs": [],
   "source": [
    "df_train = pd.concat([X_train, y_train], axis=1)\n",
    "df_test = pd.concat([X_test, y_test], axis=1)\n"
   ]
  },
  {
   "cell_type": "code",
   "execution_count": null,
   "metadata": {},
   "outputs": [],
   "source": []
  },
  {
   "cell_type": "code",
   "execution_count": 36,
   "metadata": {},
   "outputs": [],
   "source": [
    "batch_size = 32\n",
    "\n",
    "def data_flow_fct(data, datagen, data_type=None) :\n",
    "    data_flow = datagen.flow_from_dataframe(data, directory='',\n",
    "                                x_col='image_path', y_col='label_name',\n",
    "                                weight_col=None, target_size=(256, 256),\n",
    "                                classes=None, class_mode='categorical',\n",
    "                                batch_size=batch_size, shuffle=True, seed=42,\n",
    "                                subset=data_type\n",
    "                                )\n",
    "    return data_flow"
   ]
  },
  {
   "cell_type": "code",
   "execution_count": 37,
   "metadata": {
    "scrolled": true
   },
   "outputs": [
    {
     "name": "stdout",
     "output_type": "stream",
     "text": [
      "Found 528 validated image filenames belonging to 7 classes.\n",
      "Found 175 validated image filenames belonging to 7 classes.\n",
      "Found 347 validated image filenames belonging to 7 classes.\n"
     ]
    }
   ],
   "source": [
    "datagen_train = ImageDataGenerator(\n",
    "#    featurewise_center=True,\n",
    "#    featurewise_std_normalization=True,\n",
    "    rotation_range=20,\n",
    "    width_shift_range=0.2,\n",
    "    height_shift_range=0.2,\n",
    "    horizontal_flip=True,\n",
    "    validation_split=0.25,\n",
    "    preprocessing_function=preprocess_input)\n",
    "\n",
    "train_flow = data_flow_fct(df_train, datagen_train, data_type='training')\n",
    "val_flow = data_flow_fct(df_train, datagen_train, data_type='validation')\n",
    "\n",
    "datagen_test = ImageDataGenerator(\n",
    "    validation_split=0,\n",
    "    preprocessing_function=preprocess_input)\n",
    "\n",
    "test_flow = data_flow_fct(df_test, datagen_test, data_type=None)\n",
    "\n",
    "# compute quantities required for featurewise normalization\n",
    "# (std, mean, and principal components if ZCA whitening is applied)\n",
    "# datagen.fit(X_train)\n",
    "# fits the model on batches with real-time data augmentation:"
   ]
  },
  {
   "cell_type": "code",
   "execution_count": 38,
   "metadata": {
    "scrolled": true
   },
   "outputs": [
    {
     "name": "stdout",
     "output_type": "stream",
     "text": [
      "Model: \"model_1\"\n",
      "_________________________________________________________________\n",
      " Layer (type)                Output Shape              Param #   \n",
      "=================================================================\n",
      " input_2 (InputLayer)        [(None, 224, 224, 3)]     0         \n",
      "                                                                 \n",
      " block1_conv1 (Conv2D)       (None, 224, 224, 64)      1792      \n",
      "                                                                 \n",
      " block1_conv2 (Conv2D)       (None, 224, 224, 64)      36928     \n",
      "                                                                 \n",
      " block1_pool (MaxPooling2D)  (None, 112, 112, 64)      0         \n",
      "                                                                 \n",
      " block2_conv1 (Conv2D)       (None, 112, 112, 128)     73856     \n",
      "                                                                 \n",
      " block2_conv2 (Conv2D)       (None, 112, 112, 128)     147584    \n",
      "                                                                 \n",
      " block2_pool (MaxPooling2D)  (None, 56, 56, 128)       0         \n",
      "                                                                 \n",
      " block3_conv1 (Conv2D)       (None, 56, 56, 256)       295168    \n",
      "                                                                 \n",
      " block3_conv2 (Conv2D)       (None, 56, 56, 256)       590080    \n",
      "                                                                 \n",
      " block3_conv3 (Conv2D)       (None, 56, 56, 256)       590080    \n",
      "                                                                 \n",
      " block3_pool (MaxPooling2D)  (None, 28, 28, 256)       0         \n",
      "                                                                 \n",
      " block4_conv1 (Conv2D)       (None, 28, 28, 512)       1180160   \n",
      "                                                                 \n",
      " block4_conv2 (Conv2D)       (None, 28, 28, 512)       2359808   \n",
      "                                                                 \n",
      " block4_conv3 (Conv2D)       (None, 28, 28, 512)       2359808   \n",
      "                                                                 \n",
      " block4_pool (MaxPooling2D)  (None, 14, 14, 512)       0         \n",
      "                                                                 \n",
      " block5_conv1 (Conv2D)       (None, 14, 14, 512)       2359808   \n",
      "                                                                 \n",
      " block5_conv2 (Conv2D)       (None, 14, 14, 512)       2359808   \n",
      "                                                                 \n",
      " block5_conv3 (Conv2D)       (None, 14, 14, 512)       2359808   \n",
      "                                                                 \n",
      " block5_pool (MaxPooling2D)  (None, 7, 7, 512)         0         \n",
      "                                                                 \n",
      " global_average_pooling2d_1   (None, 512)              0         \n",
      " (GlobalAveragePooling2D)                                        \n",
      "                                                                 \n",
      " dense_2 (Dense)             (None, 256)               131328    \n",
      "                                                                 \n",
      " dropout_1 (Dropout)         (None, 256)               0         \n",
      "                                                                 \n",
      " dense_3 (Dense)             (None, 7)                 1799      \n",
      "                                                                 \n",
      "=================================================================\n",
      "Total params: 14,847,815\n",
      "Trainable params: 133,127\n",
      "Non-trainable params: 14,714,688\n",
      "_________________________________________________________________\n",
      "None\n"
     ]
    }
   ],
   "source": [
    "# Création du modèle\n",
    "with tf.device('/gpu:0'): \n",
    "    model2 = create_model_fct()\n",
    "\n",
    "# Création du callback\n",
    "model2_save_path = \"./model2_best_weights.h5\"\n",
    "checkpoint = ModelCheckpoint(model2_save_path, monitor='val_loss', verbose=1, save_best_only=True, mode='min')\n",
    "es = EarlyStopping(monitor='val_loss', mode='min', verbose=1, patience=5)\n",
    "callbacks_list = [checkpoint, es]\n"
   ]
  },
  {
   "cell_type": "code",
   "execution_count": 39,
   "metadata": {
    "scrolled": true
   },
   "outputs": [
    {
     "name": "stdout",
     "output_type": "stream",
     "text": [
      "Num GPUs Available:  0\n"
     ]
    }
   ],
   "source": [
    "print(\"Num GPUs Available: \", len(tf.config.list_physical_devices('GPU')))\n"
   ]
  },
  {
   "cell_type": "code",
   "execution_count": 40,
   "metadata": {
    "scrolled": true
   },
   "outputs": [
    {
     "name": "stdout",
     "output_type": "stream",
     "text": [
      "Epoch 1/50\n",
      " 5/17 [=======>......................] - ETA: 2:10 - loss: 5.5305 - accuracy: 0.3187"
     ]
    },
    {
     "name": "stderr",
     "output_type": "stream",
     "text": [
      "C:\\Users\\User\\anaconda3\\envs\\nouveauenvironnement\\lib\\site-packages\\PIL\\Image.py:3157: DecompressionBombWarning: Image size (93680328 pixels) exceeds limit of 89478485 pixels, could be decompression bomb DOS attack.\n",
      "  warnings.warn(\n"
     ]
    },
    {
     "name": "stdout",
     "output_type": "stream",
     "text": [
      "17/17 [==============================] - ETA: 0s - loss: 3.9763 - accuracy: 0.4545\n",
      "Epoch 1: val_loss improved from inf to 1.34958, saving model to .\\model2_best_weights.h5\n",
      "17/17 [==============================] - 226s 13s/step - loss: 3.9763 - accuracy: 0.4545 - val_loss: 1.3496 - val_accuracy: 0.6457\n",
      "Epoch 2/50\n",
      "17/17 [==============================] - ETA: 0s - loss: 1.6542 - accuracy: 0.6345\n",
      "Epoch 2: val_loss improved from 1.34958 to 1.07382, saving model to .\\model2_best_weights.h5\n",
      "17/17 [==============================] - 215s 13s/step - loss: 1.6542 - accuracy: 0.6345 - val_loss: 1.0738 - val_accuracy: 0.7314\n",
      "Epoch 3/50\n",
      "17/17 [==============================] - ETA: 0s - loss: 1.2371 - accuracy: 0.7292\n",
      "Epoch 3: val_loss did not improve from 1.07382\n",
      "17/17 [==============================] - 227s 13s/step - loss: 1.2371 - accuracy: 0.7292 - val_loss: 1.1246 - val_accuracy: 0.7371\n",
      "Epoch 4/50\n",
      "17/17 [==============================] - ETA: 0s - loss: 0.7835 - accuracy: 0.7746 \n",
      "Epoch 4: val_loss improved from 1.07382 to 1.02606, saving model to .\\model2_best_weights.h5\n",
      "17/17 [==============================] - 237s 14s/step - loss: 0.7835 - accuracy: 0.7746 - val_loss: 1.0261 - val_accuracy: 0.7257\n",
      "Epoch 5/50\n",
      "17/17 [==============================] - ETA: 0s - loss: 0.6916 - accuracy: 0.7973 \n",
      "Epoch 5: val_loss did not improve from 1.02606\n",
      "17/17 [==============================] - 234s 14s/step - loss: 0.6916 - accuracy: 0.7973 - val_loss: 1.1032 - val_accuracy: 0.7257\n",
      "Epoch 6/50\n",
      "17/17 [==============================] - ETA: 0s - loss: 0.6111 - accuracy: 0.8277\n",
      "Epoch 6: val_loss improved from 1.02606 to 0.95295, saving model to .\\model2_best_weights.h5\n",
      "17/17 [==============================] - 221s 13s/step - loss: 0.6111 - accuracy: 0.8277 - val_loss: 0.9530 - val_accuracy: 0.7543\n",
      "Epoch 7/50\n",
      "17/17 [==============================] - ETA: 0s - loss: 0.4794 - accuracy: 0.8523\n",
      "Epoch 7: val_loss did not improve from 0.95295\n",
      "17/17 [==============================] - 219s 13s/step - loss: 0.4794 - accuracy: 0.8523 - val_loss: 1.0029 - val_accuracy: 0.7371\n",
      "Epoch 8/50\n",
      "17/17 [==============================] - ETA: 0s - loss: 0.3931 - accuracy: 0.8636\n",
      "Epoch 8: val_loss improved from 0.95295 to 0.84753, saving model to .\\model2_best_weights.h5\n",
      "17/17 [==============================] - 220s 13s/step - loss: 0.3931 - accuracy: 0.8636 - val_loss: 0.8475 - val_accuracy: 0.7943\n",
      "Epoch 9/50\n",
      "17/17 [==============================] - ETA: 0s - loss: 0.5056 - accuracy: 0.8580\n",
      "Epoch 9: val_loss improved from 0.84753 to 0.80637, saving model to .\\model2_best_weights.h5\n",
      "17/17 [==============================] - 226s 13s/step - loss: 0.5056 - accuracy: 0.8580 - val_loss: 0.8064 - val_accuracy: 0.7657\n",
      "Epoch 10/50\n",
      "17/17 [==============================] - ETA: 0s - loss: 0.3594 - accuracy: 0.8883 \n",
      "Epoch 10: val_loss did not improve from 0.80637\n",
      "17/17 [==============================] - 239s 14s/step - loss: 0.3594 - accuracy: 0.8883 - val_loss: 0.8961 - val_accuracy: 0.7943\n",
      "Epoch 11/50\n",
      "17/17 [==============================] - ETA: 0s - loss: 0.3195 - accuracy: 0.8920 \n",
      "Epoch 11: val_loss did not improve from 0.80637\n",
      "17/17 [==============================] - 228s 14s/step - loss: 0.3195 - accuracy: 0.8920 - val_loss: 0.9673 - val_accuracy: 0.7543\n",
      "Epoch 12/50\n",
      "17/17 [==============================] - ETA: 0s - loss: 0.2496 - accuracy: 0.9223\n",
      "Epoch 12: val_loss did not improve from 0.80637\n",
      "17/17 [==============================] - 227s 13s/step - loss: 0.2496 - accuracy: 0.9223 - val_loss: 0.8630 - val_accuracy: 0.8057\n",
      "Epoch 13/50\n",
      "17/17 [==============================] - ETA: 0s - loss: 0.2580 - accuracy: 0.9186 \n",
      "Epoch 13: val_loss did not improve from 0.80637\n",
      "17/17 [==============================] - 225s 14s/step - loss: 0.2580 - accuracy: 0.9186 - val_loss: 1.1109 - val_accuracy: 0.8000\n",
      "Epoch 14/50\n",
      "17/17 [==============================] - ETA: 0s - loss: 0.2272 - accuracy: 0.9261 \n",
      "Epoch 14: val_loss did not improve from 0.80637\n",
      "17/17 [==============================] - 233s 14s/step - loss: 0.2272 - accuracy: 0.9261 - val_loss: 0.9371 - val_accuracy: 0.7829\n",
      "Epoch 14: early stopping\n"
     ]
    }
   ],
   "source": [
    "with tf.device('/gpu:0'): \n",
    "    history2 = model2.fit(train_flow,\n",
    "                    validation_data=val_flow,\n",
    "                    batch_size=batch_size, epochs=50, callbacks=callbacks_list, verbose=1)\n"
   ]
  },
  {
   "cell_type": "code",
   "execution_count": 41,
   "metadata": {
    "scrolled": true
   },
   "outputs": [
    {
     "name": "stdout",
     "output_type": "stream",
     "text": [
      "17/17 [==============================] - 173s 10s/step - loss: 0.0580 - accuracy: 0.9830\n",
      "Training Accuracy   : 0.9830\n",
      "\n",
      "6/6 [==============================] - 57s 9s/step - loss: 1.0156 - accuracy: 0.7486\n",
      "Validation Accuracy :  0.7486\n"
     ]
    }
   ],
   "source": [
    "# Score du dernier epoch\n",
    "\n",
    "loss, accuracy = model2.evaluate(train_flow, verbose=True)\n",
    "print(\"Training Accuracy   : {:.4f}\".format(accuracy))\n",
    "print()\n",
    "loss, accuracy = model2.evaluate(val_flow, verbose=True)\n",
    "print(\"Validation Accuracy :  {:.4f}\".format(accuracy))"
   ]
  },
  {
   "cell_type": "code",
   "execution_count": 42,
   "metadata": {},
   "outputs": [
    {
     "name": "stdout",
     "output_type": "stream",
     "text": [
      "Validation Accuracy :  0.7257\n",
      "Test Accuracy       :  0.8040\n"
     ]
    }
   ],
   "source": [
    "# Score de l'epoch optimal\n",
    "\n",
    "model2.load_weights(model2_save_path)\n",
    "\n",
    "loss, accuracy = model2.evaluate(val_flow, verbose=False)\n",
    "print(\"Validation Accuracy :  {:.4f}\".format(accuracy))\n",
    "\n",
    "loss, accuracy = model2.evaluate(test_flow, verbose=False)\n",
    "print(\"Test Accuracy       :  {:.4f}\".format(accuracy))\n"
   ]
  },
  {
   "cell_type": "code",
   "execution_count": 43,
   "metadata": {},
   "outputs": [
    {
     "data": {
      "image/png": "[encoded data removed]",
      "text/plain": [
       "<Figure size 1000x500 with 2 Axes>"
      ]
     },
     "metadata": {},
     "output_type": "display_data"
    }
   ],
   "source": [
    "from plot_keras_history import show_history, plot_history\n",
    "import matplotlib.pyplot as plt\n",
    "\n",
    "show_history(history2)\n",
    "plot_history(history2, path=\"standard.png\")\n",
    "plt.close()"
   ]
  }
 ],
 "metadata": {
  "hide_input": false,
  "kernelspec": {
   "display_name": "Python 3 (ipykernel)",
   "language": "python",
   "name": "python3"
  },
  "language_info": {
   "codemirror_mode": {
    "name": "ipython",
    "version": 3
   },
   "file_extension": ".py",
   "mimetype": "text/x-python",
   "name": "python",
   "nbconvert_exporter": "python",
   "pygments_lexer": "ipython3",
   "version": "3.9.1"
  },
  "toc": {
   "base_numbering": 1,
   "nav_menu": {},
   "number_sections": true,
   "sideBar": true,
   "skip_h1_title": false,
   "title_cell": "Table of Contents",
   "title_sidebar": "Contents",
   "toc_cell": false,
   "toc_position": {
    "height": "calc(100% - 180px)",
    "left": "10px",
    "top": "150px",
    "width": "256px"
   },
   "toc_section_display": true,
   "toc_window_display": true
  },
  "varInspector": {
   "cols": {
    "lenName": 16,
    "lenType": 16,
    "lenVar": 40
   },
   "kernels_config": {
    "python": {
     "delete_cmd_postfix": "",
     "delete_cmd_prefix": "del ",
     "library": "var_list.py",
     "varRefreshCmd": "print(var_dic_list())"
    },
    "r": {
     "delete_cmd_postfix": ") ",
     "delete_cmd_prefix": "rm(",
     "library": "var_list.r",
     "varRefreshCmd": "cat(var_dic_list()) "
    }
   },
   "types_to_exclude": [
    "module",
    "function",
    "builtin_function_or_method",
    "instance",
    "_Feature"
   ],
   "window_display": false
  }
 },
 "nbformat": 4,
 "nbformat_minor": 4
}
